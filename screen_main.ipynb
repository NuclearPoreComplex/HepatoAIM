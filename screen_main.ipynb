{
 "cells": [
  {
   "cell_type": "code",
   "execution_count": 2,
   "id": "75bada94-ce9b-4f4a-a894-73835b814b9c",
   "metadata": {},
   "outputs": [],
   "source": [
    "#筛选函数\n",
    "from screening_c import screen_c_tg_list\n",
    "import pandas as pd\n",
    "import paddle"
   ]
  },
  {
   "cell_type": "code",
   "execution_count": 3,
   "id": "58e9fa53-fb43-405e-9f83-1432b60237f8",
   "metadata": {},
   "outputs": [],
   "source": [
    "screening_data_pth = f'./screening/20240801-L1300-FDA-approved-Drug-Library-96-well.csv'"
   ]
  },
  {
   "cell_type": "code",
   "execution_count": 4,
   "id": "5d0e0173-ac98-4e79-b5c7-045ecdc99799",
   "metadata": {},
   "outputs": [],
   "source": [
    "target_list=[\n",
    "        'CHEMBL1811',\n",
    "        'CHEMBL1974',\n",
    "        'CHEMBL1985',\n",
    "        'CHEMBL4896']"
   ]
  },
  {
   "cell_type": "code",
   "execution_count": 5,
   "id": "432918e6-b6fa-4dbc-8646-a8a15453ae38",
   "metadata": {},
   "outputs": [],
   "source": [
    "#p= input('是否进行过分类筛选：(Y/N)')\n",
    "p='Y'"
   ]
  },
  {
   "cell_type": "code",
   "execution_count": 6,
   "id": "2459d03b-0008-4e1f-b917-8d72ef8028d9",
   "metadata": {},
   "outputs": [],
   "source": [
    "if p == 'Y':\n",
    "    out =  pd.read_csv('result_c.csv')\n",
    "else:\n",
    "    #筛选部分C\n",
    "    out = screen_c_tg_list(screening_data_pth,target_list)\n",
    "    #储存\n",
    "    out.to_csv('result_c.csv', index=False)#存档"
   ]
  },
  {
   "cell_type": "code",
   "execution_count": 7,
   "id": "13a37d10-df86-4d9c-b720-313a4847a52d",
   "metadata": {},
   "outputs": [
    {
     "name": "stdout",
     "output_type": "stream",
     "text": [
      "        Cat    CHEMBL1811    CHEMBL1974  CHEMBL1985    CHEMBL4896\n",
      "0     S1005  2.613958e-14  8.894991e-03    1.000000  9.832675e-01\n",
      "1     S1007  9.974610e-01  8.901299e-05    0.030654  1.300856e-01\n",
      "2     S1008  7.830590e-28  4.850535e-03    1.000000  4.168045e-10\n",
      "3     S1010  1.000000e+00  5.301744e-03    1.000000  7.503332e-05\n",
      "4     S1011  1.576505e-05  1.481443e-15    1.000000  3.640518e-01\n",
      "...     ...           ...           ...         ...           ...\n",
      "3099  S5695  6.603392e-01  4.419858e-01    0.661806  6.106746e-01\n",
      "3100  S8030  6.607638e-01  4.324717e-01    0.666031  6.122491e-01\n",
      "3101  S5650  6.612318e-01  4.683121e-01    0.650879  6.285586e-01\n",
      "3102  S2095  6.642293e-01  4.579586e-01    0.662900  6.160767e-01\n",
      "3103  S2050  6.667600e-01  4.662220e-01    0.651600  6.082653e-01\n",
      "\n",
      "[3104 rows x 5 columns]\n"
     ]
    }
   ],
   "source": [
    "print(out)"
   ]
  },
  {
   "cell_type": "code",
   "execution_count": 8,
   "id": "e3db6af4-5057-4cd0-89c7-d333230852ce",
   "metadata": {},
   "outputs": [],
   "source": [
    "tg_value_type={'CHEMBL1811':['IC50','Ki'],\n",
    "              'CHEMBL1974':['IC50','Activity','Inhibition','Kd'],\n",
    "               'CHEMBL1985':['IC50','Ki'],\n",
    "               'CHEMBL4896':['IC50','Thermal melting change'] }"
   ]
  },
  {
   "cell_type": "code",
   "execution_count": 9,
   "id": "c9c467b5-9de6-4fff-97d1-1269dc261545",
   "metadata": {},
   "outputs": [
    {
     "name": "stdout",
     "output_type": "stream",
     "text": [
      "进行靶点CHEMBL1811的IC50筛选\n"
     ]
    },
    {
     "name": "stderr",
     "output_type": "stream",
     "text": [
      "[2024-10-07 03:51:08,030] [ WARNING] module_wrapper.py:149 - From C:\\ProgramData\\anaconda3\\envs\\C4-AI\\lib\\site-packages\\keras\\src\\backend\\common\\global_state.py:82: The name tf.reset_default_graph is deprecated. Please use tf.compat.v1.reset_default_graph instead.\n",
      "\n"
     ]
    },
    {
     "name": "stdout",
     "output_type": "stream",
     "text": [
      "\u001b[1m17/17\u001b[0m \u001b[32m━━━━━━━━━━━━━━━━━━━━\u001b[0m\u001b[37m\u001b[0m \u001b[1m4s\u001b[0m 180ms/step\n",
      "进行靶点CHEMBL1811的Ki筛选\n",
      "\u001b[1m17/17\u001b[0m \u001b[32m━━━━━━━━━━━━━━━━━━━━\u001b[0m\u001b[37m\u001b[0m \u001b[1m4s\u001b[0m 173ms/step\n",
      "进行靶点CHEMBL1974的IC50筛选\n",
      "\u001b[1m15/15\u001b[0m \u001b[32m━━━━━━━━━━━━━━━━━━━━\u001b[0m\u001b[37m\u001b[0m \u001b[1m4s\u001b[0m 171ms/step\n",
      "进行靶点CHEMBL1974的Activity筛选\n",
      "\u001b[1m15/15\u001b[0m \u001b[32m━━━━━━━━━━━━━━━━━━━━\u001b[0m\u001b[37m\u001b[0m \u001b[1m3s\u001b[0m 165ms/step\n",
      "进行靶点CHEMBL1974的Inhibition筛选\n",
      "\u001b[1m15/15\u001b[0m \u001b[32m━━━━━━━━━━━━━━━━━━━━\u001b[0m\u001b[37m\u001b[0m \u001b[1m3s\u001b[0m 163ms/step\n",
      "进行靶点CHEMBL1974的Kd筛选\n",
      "\u001b[1m15/15\u001b[0m \u001b[32m━━━━━━━━━━━━━━━━━━━━\u001b[0m\u001b[37m\u001b[0m \u001b[1m3s\u001b[0m 162ms/step\n",
      "进行靶点CHEMBL1985的IC50筛选\n",
      "\u001b[1m20/20\u001b[0m \u001b[32m━━━━━━━━━━━━━━━━━━━━\u001b[0m\u001b[37m\u001b[0m \u001b[1m5s\u001b[0m 186ms/step\n",
      "进行靶点CHEMBL1985的Ki筛选\n",
      "\u001b[1m20/20\u001b[0m \u001b[32m━━━━━━━━━━━━━━━━━━━━\u001b[0m\u001b[37m\u001b[0m \u001b[1m5s\u001b[0m 195ms/step\n",
      "进行靶点CHEMBL4896的IC50筛选\n",
      "\u001b[1m14/14\u001b[0m \u001b[32m━━━━━━━━━━━━━━━━━━━━\u001b[0m\u001b[37m\u001b[0m \u001b[1m3s\u001b[0m 160ms/step\n",
      "进行靶点CHEMBL4896的Thermal melting change筛选\n",
      "\u001b[1m14/14\u001b[0m \u001b[32m━━━━━━━━━━━━━━━━━━━━\u001b[0m\u001b[37m\u001b[0m \u001b[1m3s\u001b[0m 163ms/step\n"
     ]
    },
    {
     "data": {
      "text/plain": [
       "'完成筛选'"
      ]
     },
     "execution_count": 9,
     "metadata": {},
     "output_type": "execute_result"
    }
   ],
   "source": [
    "from screening_r import screen_for_r_put_out\n",
    "p = screen_for_r_put_out(out,tg_value_type)\n",
    "p\n"
   ]
  }
 ],
 "metadata": {
  "kernelspec": {
   "display_name": "C4-AI_of_python3.9.18",
   "language": "python",
   "name": "c4-ai_of_python3.9.18"
  },
  "language_info": {
   "codemirror_mode": {
    "name": "ipython",
    "version": 3
   },
   "file_extension": ".py",
   "mimetype": "text/x-python",
   "name": "python",
   "nbconvert_exporter": "python",
   "pygments_lexer": "ipython3",
   "version": "3.9.18"
  }
 },
 "nbformat": 4,
 "nbformat_minor": 5
}
