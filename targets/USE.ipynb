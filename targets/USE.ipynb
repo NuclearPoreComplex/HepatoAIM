{
 "cells": [
  {
   "cell_type": "code",
   "execution_count": 2,
   "id": "bfdfcf5b-0945-4e09-b8f5-a75ea4461c4a",
   "metadata": {},
   "outputs": [],
   "source": [
    "seq = 'MEKVYGLIGFPVEHSLSPLMHNDAFARLGIPARYHLFSVEPGQVGAAIAGVRALGIAGVNVTIPHKLAVIPFLDEVDEHARRIGAVNTIINNDGRLIGFNTDGPGYVQALEEEMNITLDGKRILVIGAGGGARGIYFSLLSTAAERIDMANRTVEKAERLVREGEGGRSAYFSLAEAETRLDEYDIIINTTSVGMHPRVEVQPLSLERLRPGVIVSNIIYNPLETKWLKEAKARGARVQNGVGMLVYQGALAFEKWTGQWPDVNRMKQLVIEALRR'"
   ]
  },
  {
   "cell_type": "code",
   "execution_count": 3,
   "id": "055cbc00-4bb4-4947-b564-68cb0e829fdf",
   "metadata": {},
   "outputs": [],
   "source": [
    "seq_fasta_pth='unique_seq.fasta'\n",
    "seq_dic={}\n",
    "\n",
    "from Bio import SeqIO\n",
    "\n",
    "# 打开 FASTA 文件\n",
    "with open(seq_fasta_pth, \"r\") as fasta_file:\n",
    "    for record in SeqIO.parse(fasta_file, \"fasta\"):\n",
    "        seq_dic[record.id]=str(record.seq)"
   ]
  },
  {
   "cell_type": "code",
   "execution_count": 4,
   "id": "e9a8a50f-8c75-4832-b4cf-bb0bee8183fe",
   "metadata": {},
   "outputs": [
    {
     "name": "stderr",
     "output_type": "stream",
     "text": [
      "C:\\ProgramData\\anaconda3\\envs\\TemBERTure\\lib\\site-packages\\transformers\\utils\\generic.py:441: UserWarning: torch.utils._pytree._register_pytree_node is deprecated. Please use torch.utils._pytree.register_pytree_node instead.\n",
      "  _torch_pytree._register_pytree_node(\n",
      "C:\\ProgramData\\anaconda3\\envs\\TemBERTure\\lib\\site-packages\\transformers\\utils\\generic.py:309: UserWarning: torch.utils._pytree._register_pytree_node is deprecated. Please use torch.utils._pytree.register_pytree_node instead.\n",
      "  _torch_pytree._register_pytree_node(\n",
      "C:\\ProgramData\\anaconda3\\envs\\TemBERTure\\lib\\site-packages\\transformers\\utils\\generic.py:309: UserWarning: torch.utils._pytree._register_pytree_node is deprecated. Please use torch.utils._pytree.register_pytree_node instead.\n",
      "  _torch_pytree._register_pytree_node(\n"
     ]
    }
   ],
   "source": [
    "# Initialize TemBERTureCLS model with specified parameters\n",
    "from temBERTure import TemBERTure\n",
    "model = TemBERTure(\n",
    "    adapter_path='./temBERTure_CLS/',  # Path to the model adapter weights\n",
    "    device='cuda',                                # Device to run the model on\n",
    "    batch_size=1,                                 # Batch size for inference\n",
    "    task='classification'                         # Task type (e.g., classification for TemBERTureCLS)\n",
    ")"
   ]
  },
  {
   "cell_type": "code",
   "execution_count": 5,
   "id": "66bebdf2-cdec-494a-a302-06c42018fbd4",
   "metadata": {
    "scrolled": true
   },
   "outputs": [],
   "source": [
    "from temBERTure import TemBERTure\n",
    "\n",
    "# Initialize all TemBERTureTM replicas with specified inference parameters\n",
    "model_replica1 = TemBERTure(\n",
    "    adapter_path='./temBERTure_TM/replica1/',  # Path to the adapter for replica 1\n",
    "    device='cuda',                                        # Device to run the model on\n",
    "    batch_size=16,                                        # Batch size for inference\n",
    "    task='regression'                                     # Task type (e.g., regression for TemBERTureTM)\n",
    ")\n",
    "\n",
    "model_replica2 = TemBERTure(\n",
    "    adapter_path='./temBERTure_TM/replica2/',  # Path to the adapter for replica 2\n",
    "    device='cuda',                                        # Device to run the model on\n",
    "    batch_size=16,                                        # Batch size for inference\n",
    "    task='regression'                                     # Task type (e.g., regression for TemBERTureTM)\n",
    ")\n",
    "\n",
    "model_replica3 = TemBERTure(\n",
    "    adapter_path='./temBERTure_TM/replica3/',  # Path to the adapter for replica 3\n",
    "    device='cuda',                                        # Device to run the model on\n",
    "    batch_size=16,                                        # Batch size for inference\n",
    "    task='regression'                                     # Task type (e.g., regression for TemBERTureTM)\n",
    ")\n"
   ]
  },
  {
   "cell_type": "code",
   "execution_count": 6,
   "id": "cc2ae2a6-361c-46cb-83c4-7af377c16286",
   "metadata": {},
   "outputs": [
    {
     "name": "stderr",
     "output_type": "stream",
     "text": [
      "100%|████████████████████████████████████████████████████████████████████████████████████| 1/1 [00:02<00:00,  2.50s/it]\n"
     ]
    },
    {
     "name": "stdout",
     "output_type": "stream",
     "text": [
      "Predicted thermal class: ['Non-thermophilic']\n",
      "Thermophilicity prediction score: 0.01556436190788857\n"
     ]
    },
    {
     "name": "stderr",
     "output_type": "stream",
     "text": [
      "100%|████████████████████████████████████████████████████████████████████████████████████| 1/1 [00:20<00:00, 20.70s/it]\n"
     ]
    },
    {
     "name": "stdout",
     "output_type": "stream",
     "text": [
      "Predicted melting temperature: [41.575706481933594]\n"
     ]
    },
    {
     "name": "stderr",
     "output_type": "stream",
     "text": [
      "100%|████████████████████████████████████████████████████████████████████████████████████| 1/1 [00:05<00:00,  5.31s/it]\n"
     ]
    },
    {
     "name": "stdout",
     "output_type": "stream",
     "text": [
      "Predicted melting temperature: [40.68236541748047]\n"
     ]
    },
    {
     "name": "stderr",
     "output_type": "stream",
     "text": [
      "100%|████████████████████████████████████████████████████████████████████████████████████| 1/1 [00:05<00:00,  5.92s/it]\n"
     ]
    },
    {
     "name": "stdout",
     "output_type": "stream",
     "text": [
      "Predicted melting temperature: [44.933021545410156]\n"
     ]
    },
    {
     "name": "stderr",
     "output_type": "stream",
     "text": [
      "100%|████████████████████████████████████████████████████████████████████████████████████| 1/1 [00:03<00:00,  3.10s/it]\n"
     ]
    },
    {
     "name": "stdout",
     "output_type": "stream",
     "text": [
      "Predicted thermal class: ['Non-thermophilic']\n",
      "Thermophilicity prediction score: 0.01630692140319238\n"
     ]
    },
    {
     "name": "stderr",
     "output_type": "stream",
     "text": [
      "100%|████████████████████████████████████████████████████████████████████████████████████| 1/1 [00:03<00:00,  3.11s/it]\n"
     ]
    },
    {
     "name": "stdout",
     "output_type": "stream",
     "text": [
      "Predicted melting temperature: [43.24491500854492]\n"
     ]
    },
    {
     "name": "stderr",
     "output_type": "stream",
     "text": [
      "100%|████████████████████████████████████████████████████████████████████████████████████| 1/1 [00:03<00:00,  3.63s/it]\n"
     ]
    },
    {
     "name": "stdout",
     "output_type": "stream",
     "text": [
      "Predicted melting temperature: [41.0790901184082]\n"
     ]
    },
    {
     "name": "stderr",
     "output_type": "stream",
     "text": [
      "100%|████████████████████████████████████████████████████████████████████████████████████| 1/1 [00:05<00:00,  5.70s/it]\n"
     ]
    },
    {
     "name": "stdout",
     "output_type": "stream",
     "text": [
      "Predicted melting temperature: [47.122642517089844]\n"
     ]
    },
    {
     "name": "stderr",
     "output_type": "stream",
     "text": [
      "100%|████████████████████████████████████████████████████████████████████████████████████| 1/1 [00:03<00:00,  3.10s/it]\n"
     ]
    },
    {
     "name": "stdout",
     "output_type": "stream",
     "text": [
      "Predicted thermal class: ['Non-thermophilic']\n",
      "Thermophilicity prediction score: 0.018570818038522684\n"
     ]
    },
    {
     "name": "stderr",
     "output_type": "stream",
     "text": [
      "100%|████████████████████████████████████████████████████████████████████████████████████| 1/1 [00:03<00:00,  3.12s/it]\n"
     ]
    },
    {
     "name": "stdout",
     "output_type": "stream",
     "text": [
      "Predicted melting temperature: [44.196773529052734]\n"
     ]
    },
    {
     "name": "stderr",
     "output_type": "stream",
     "text": [
      "100%|████████████████████████████████████████████████████████████████████████████████████| 1/1 [00:03<00:00,  3.63s/it]\n"
     ]
    },
    {
     "name": "stdout",
     "output_type": "stream",
     "text": [
      "Predicted melting temperature: [40.99009704589844]\n"
     ]
    },
    {
     "name": "stderr",
     "output_type": "stream",
     "text": [
      "100%|████████████████████████████████████████████████████████████████████████████████████| 1/1 [00:05<00:00,  5.72s/it]\n"
     ]
    },
    {
     "name": "stdout",
     "output_type": "stream",
     "text": [
      "Predicted melting temperature: [47.9865837097168]\n"
     ]
    },
    {
     "name": "stderr",
     "output_type": "stream",
     "text": [
      "100%|████████████████████████████████████████████████████████████████████████████████████| 1/1 [00:03<00:00,  3.18s/it]\n"
     ]
    },
    {
     "name": "stdout",
     "output_type": "stream",
     "text": [
      "Predicted thermal class: ['Non-thermophilic']\n",
      "Thermophilicity prediction score: 0.017018230732548188\n"
     ]
    },
    {
     "name": "stderr",
     "output_type": "stream",
     "text": [
      "100%|████████████████████████████████████████████████████████████████████████████████████| 1/1 [00:03<00:00,  3.14s/it]\n"
     ]
    },
    {
     "name": "stdout",
     "output_type": "stream",
     "text": [
      "Predicted melting temperature: [43.26837158203125]\n"
     ]
    },
    {
     "name": "stderr",
     "output_type": "stream",
     "text": [
      "100%|████████████████████████████████████████████████████████████████████████████████████| 1/1 [00:03<00:00,  3.64s/it]\n"
     ]
    },
    {
     "name": "stdout",
     "output_type": "stream",
     "text": [
      "Predicted melting temperature: [41.02621841430664]\n"
     ]
    },
    {
     "name": "stderr",
     "output_type": "stream",
     "text": [
      "100%|████████████████████████████████████████████████████████████████████████████████████| 1/1 [00:05<00:00,  5.69s/it]\n"
     ]
    },
    {
     "name": "stdout",
     "output_type": "stream",
     "text": [
      "Predicted melting temperature: [47.217872619628906]\n"
     ]
    },
    {
     "name": "stderr",
     "output_type": "stream",
     "text": [
      "100%|████████████████████████████████████████████████████████████████████████████████████| 1/1 [00:03<00:00,  3.09s/it]\n"
     ]
    },
    {
     "name": "stdout",
     "output_type": "stream",
     "text": [
      "Predicted thermal class: ['Non-thermophilic']\n",
      "Thermophilicity prediction score: 0.014045099741009754\n"
     ]
    },
    {
     "name": "stderr",
     "output_type": "stream",
     "text": [
      "100%|████████████████████████████████████████████████████████████████████████████████████| 1/1 [00:03<00:00,  3.12s/it]\n"
     ]
    },
    {
     "name": "stdout",
     "output_type": "stream",
     "text": [
      "Predicted melting temperature: [42.911415100097656]\n"
     ]
    },
    {
     "name": "stderr",
     "output_type": "stream",
     "text": [
      "100%|████████████████████████████████████████████████████████████████████████████████████| 1/1 [00:03<00:00,  3.63s/it]\n"
     ]
    },
    {
     "name": "stdout",
     "output_type": "stream",
     "text": [
      "Predicted melting temperature: [41.13218688964844]\n"
     ]
    },
    {
     "name": "stderr",
     "output_type": "stream",
     "text": [
      "100%|████████████████████████████████████████████████████████████████████████████████████| 1/1 [00:05<00:00,  5.76s/it]\n"
     ]
    },
    {
     "name": "stdout",
     "output_type": "stream",
     "text": [
      "Predicted melting temperature: [47.182533264160156]\n"
     ]
    },
    {
     "name": "stderr",
     "output_type": "stream",
     "text": [
      "100%|████████████████████████████████████████████████████████████████████████████████████| 1/1 [00:03<00:00,  3.13s/it]\n"
     ]
    },
    {
     "name": "stdout",
     "output_type": "stream",
     "text": [
      "Predicted thermal class: ['Non-thermophilic']\n",
      "Thermophilicity prediction score: 0.007207361721563945\n"
     ]
    },
    {
     "name": "stderr",
     "output_type": "stream",
     "text": [
      "100%|████████████████████████████████████████████████████████████████████████████████████| 1/1 [00:03<00:00,  3.40s/it]\n"
     ]
    },
    {
     "name": "stdout",
     "output_type": "stream",
     "text": [
      "Predicted melting temperature: [44.43062973022461]\n"
     ]
    },
    {
     "name": "stderr",
     "output_type": "stream",
     "text": [
      "100%|████████████████████████████████████████████████████████████████████████████████████| 1/1 [00:04<00:00,  4.03s/it]\n"
     ]
    },
    {
     "name": "stdout",
     "output_type": "stream",
     "text": [
      "Predicted melting temperature: [41.43922805786133]\n"
     ]
    },
    {
     "name": "stderr",
     "output_type": "stream",
     "text": [
      "100%|████████████████████████████████████████████████████████████████████████████████████| 1/1 [00:06<00:00,  6.06s/it]\n"
     ]
    },
    {
     "name": "stdout",
     "output_type": "stream",
     "text": [
      "Predicted melting temperature: [48.707130432128906]\n"
     ]
    },
    {
     "name": "stderr",
     "output_type": "stream",
     "text": [
      "100%|████████████████████████████████████████████████████████████████████████████████████| 1/1 [00:03<00:00,  3.16s/it]\n"
     ]
    },
    {
     "name": "stdout",
     "output_type": "stream",
     "text": [
      "Predicted thermal class: ['Non-thermophilic']\n",
      "Thermophilicity prediction score: 0.008588627560382433\n"
     ]
    },
    {
     "name": "stderr",
     "output_type": "stream",
     "text": [
      "100%|████████████████████████████████████████████████████████████████████████████████████| 1/1 [00:03<00:00,  3.23s/it]\n"
     ]
    },
    {
     "name": "stdout",
     "output_type": "stream",
     "text": [
      "Predicted melting temperature: [43.481346130371094]\n"
     ]
    },
    {
     "name": "stderr",
     "output_type": "stream",
     "text": [
      "100%|████████████████████████████████████████████████████████████████████████████████████| 1/1 [00:03<00:00,  3.67s/it]\n"
     ]
    },
    {
     "name": "stdout",
     "output_type": "stream",
     "text": [
      "Predicted melting temperature: [41.133544921875]\n"
     ]
    },
    {
     "name": "stderr",
     "output_type": "stream",
     "text": [
      "100%|████████████████████████████████████████████████████████████████████████████████████| 1/1 [00:05<00:00,  5.90s/it]\n"
     ]
    },
    {
     "name": "stdout",
     "output_type": "stream",
     "text": [
      "Predicted melting temperature: [47.420433044433594]\n"
     ]
    },
    {
     "name": "stderr",
     "output_type": "stream",
     "text": [
      "100%|████████████████████████████████████████████████████████████████████████████████████| 1/1 [00:03<00:00,  3.34s/it]\n"
     ]
    },
    {
     "name": "stdout",
     "output_type": "stream",
     "text": [
      "Predicted thermal class: ['Non-thermophilic']\n",
      "Thermophilicity prediction score: 0.007155538940745218\n"
     ]
    },
    {
     "name": "stderr",
     "output_type": "stream",
     "text": [
      "100%|████████████████████████████████████████████████████████████████████████████████████| 1/1 [00:03<00:00,  3.74s/it]\n"
     ]
    },
    {
     "name": "stdout",
     "output_type": "stream",
     "text": [
      "Predicted melting temperature: [44.412353515625]\n"
     ]
    },
    {
     "name": "stderr",
     "output_type": "stream",
     "text": [
      "100%|████████████████████████████████████████████████████████████████████████████████████| 1/1 [00:04<00:00,  4.11s/it]\n"
     ]
    },
    {
     "name": "stdout",
     "output_type": "stream",
     "text": [
      "Predicted melting temperature: [41.39636993408203]\n"
     ]
    },
    {
     "name": "stderr",
     "output_type": "stream",
     "text": [
      "100%|████████████████████████████████████████████████████████████████████████████████████| 1/1 [00:06<00:00,  6.24s/it]\n"
     ]
    },
    {
     "name": "stdout",
     "output_type": "stream",
     "text": [
      "Predicted melting temperature: [48.35111999511719]\n"
     ]
    },
    {
     "name": "stderr",
     "output_type": "stream",
     "text": [
      "100%|████████████████████████████████████████████████████████████████████████████████████| 1/1 [00:03<00:00,  3.09s/it]\n"
     ]
    },
    {
     "name": "stdout",
     "output_type": "stream",
     "text": [
      "Predicted thermal class: ['Non-thermophilic']\n",
      "Thermophilicity prediction score: 0.01511980358445577\n"
     ]
    },
    {
     "name": "stderr",
     "output_type": "stream",
     "text": [
      "100%|████████████████████████████████████████████████████████████████████████████████████| 1/1 [00:03<00:00,  3.10s/it]\n"
     ]
    },
    {
     "name": "stdout",
     "output_type": "stream",
     "text": [
      "Predicted melting temperature: [43.18219757080078]\n"
     ]
    },
    {
     "name": "stderr",
     "output_type": "stream",
     "text": [
      "100%|████████████████████████████████████████████████████████████████████████████████████| 1/1 [00:03<00:00,  3.65s/it]\n"
     ]
    },
    {
     "name": "stdout",
     "output_type": "stream",
     "text": [
      "Predicted melting temperature: [41.02979278564453]\n"
     ]
    },
    {
     "name": "stderr",
     "output_type": "stream",
     "text": [
      "100%|████████████████████████████████████████████████████████████████████████████████████| 1/1 [00:05<00:00,  5.67s/it]\n"
     ]
    },
    {
     "name": "stdout",
     "output_type": "stream",
     "text": [
      "Predicted melting temperature: [46.19093704223633]\n"
     ]
    },
    {
     "name": "stderr",
     "output_type": "stream",
     "text": [
      "100%|████████████████████████████████████████████████████████████████████████████████████| 1/1 [00:03<00:00,  3.26s/it]\n"
     ]
    },
    {
     "name": "stdout",
     "output_type": "stream",
     "text": [
      "Predicted thermal class: ['Non-thermophilic']\n",
      "Thermophilicity prediction score: 0.016532277597275397\n"
     ]
    },
    {
     "name": "stderr",
     "output_type": "stream",
     "text": [
      "100%|████████████████████████████████████████████████████████████████████████████████████| 1/1 [00:03<00:00,  3.31s/it]\n"
     ]
    },
    {
     "name": "stdout",
     "output_type": "stream",
     "text": [
      "Predicted melting temperature: [43.25649642944336]\n"
     ]
    },
    {
     "name": "stderr",
     "output_type": "stream",
     "text": [
      "100%|████████████████████████████████████████████████████████████████████████████████████| 1/1 [00:03<00:00,  3.88s/it]\n"
     ]
    },
    {
     "name": "stdout",
     "output_type": "stream",
     "text": [
      "Predicted melting temperature: [40.8636474609375]\n"
     ]
    },
    {
     "name": "stderr",
     "output_type": "stream",
     "text": [
      "100%|████████████████████████████████████████████████████████████████████████████████████| 1/1 [00:05<00:00,  5.82s/it]\n"
     ]
    },
    {
     "name": "stdout",
     "output_type": "stream",
     "text": [
      "Predicted melting temperature: [44.85474395751953]\n"
     ]
    },
    {
     "name": "stderr",
     "output_type": "stream",
     "text": [
      "100%|████████████████████████████████████████████████████████████████████████████████████| 1/1 [00:03<00:00,  3.21s/it]\n"
     ]
    },
    {
     "name": "stdout",
     "output_type": "stream",
     "text": [
      "Predicted thermal class: ['Non-thermophilic']\n",
      "Thermophilicity prediction score: 0.008012539633486344\n"
     ]
    },
    {
     "name": "stderr",
     "output_type": "stream",
     "text": [
      "100%|████████████████████████████████████████████████████████████████████████████████████| 1/1 [00:03<00:00,  3.10s/it]\n"
     ]
    },
    {
     "name": "stdout",
     "output_type": "stream",
     "text": [
      "Predicted melting temperature: [43.55149841308594]\n"
     ]
    },
    {
     "name": "stderr",
     "output_type": "stream",
     "text": [
      "100%|████████████████████████████████████████████████████████████████████████████████████| 1/1 [00:03<00:00,  3.63s/it]\n"
     ]
    },
    {
     "name": "stdout",
     "output_type": "stream",
     "text": [
      "Predicted melting temperature: [41.141990661621094]\n"
     ]
    },
    {
     "name": "stderr",
     "output_type": "stream",
     "text": [
      "100%|████████████████████████████████████████████████████████████████████████████████████| 1/1 [00:05<00:00,  5.66s/it]\n"
     ]
    },
    {
     "name": "stdout",
     "output_type": "stream",
     "text": [
      "Predicted melting temperature: [47.650630950927734]\n"
     ]
    },
    {
     "name": "stderr",
     "output_type": "stream",
     "text": [
      "100%|████████████████████████████████████████████████████████████████████████████████████| 1/1 [00:03<00:00,  3.09s/it]\n"
     ]
    },
    {
     "name": "stdout",
     "output_type": "stream",
     "text": [
      "Predicted thermal class: ['Non-thermophilic']\n",
      "Thermophilicity prediction score: 0.0152529255601394\n"
     ]
    },
    {
     "name": "stderr",
     "output_type": "stream",
     "text": [
      "100%|████████████████████████████████████████████████████████████████████████████████████| 1/1 [00:03<00:00,  3.09s/it]\n"
     ]
    },
    {
     "name": "stdout",
     "output_type": "stream",
     "text": [
      "Predicted melting temperature: [42.94850158691406]\n"
     ]
    },
    {
     "name": "stderr",
     "output_type": "stream",
     "text": [
      "100%|████████████████████████████████████████████████████████████████████████████████████| 1/1 [00:03<00:00,  3.61s/it]\n"
     ]
    },
    {
     "name": "stdout",
     "output_type": "stream",
     "text": [
      "Predicted melting temperature: [41.03378677368164]\n"
     ]
    },
    {
     "name": "stderr",
     "output_type": "stream",
     "text": [
      "100%|████████████████████████████████████████████████████████████████████████████████████| 1/1 [00:05<00:00,  5.65s/it]"
     ]
    },
    {
     "name": "stdout",
     "output_type": "stream",
     "text": [
      "Predicted melting temperature: [46.173583984375]\n"
     ]
    },
    {
     "name": "stderr",
     "output_type": "stream",
     "text": [
      "\n"
     ]
    }
   ],
   "source": [
    "tm={}\n",
    "for id,seq in seq_dic.items(): \n",
    "    tm_value={}\n",
    "    tm_value['cls']=model.predict(seq)[1].item()\n",
    "    tm_value['r1']=model_replica1.predict(seq)[0]\n",
    "    tm_value['r2']=model_replica2.predict(seq)[0]\n",
    "    tm_value['r3']=model_replica3.predict(seq)[0]\n",
    "    tm[id]=tm_value"
   ]
  },
  {
   "cell_type": "code",
   "execution_count": 7,
   "id": "89241383-18fd-40da-b347-6dec1686a042",
   "metadata": {},
   "outputs": [
    {
     "data": {
      "text/plain": [
       "{'Target': {'cls': 0.01556436190788857,\n",
       "  'r1': 41.575706481933594,\n",
       "  'r2': 40.68236541748047,\n",
       "  'r3': 44.933021545410156},\n",
       " 'ASR1': {'cls': 0.01630692140319238,\n",
       "  'r1': 43.24491500854492,\n",
       "  'r2': 41.0790901184082,\n",
       "  'r3': 47.122642517089844},\n",
       " 'ASR2': {'cls': 0.018570818038522684,\n",
       "  'r1': 44.196773529052734,\n",
       "  'r2': 40.99009704589844,\n",
       "  'r3': 47.9865837097168},\n",
       " 'ASR3': {'cls': 0.017018230732548188,\n",
       "  'r1': 43.26837158203125,\n",
       "  'r2': 41.02621841430664,\n",
       "  'r3': 47.217872619628906},\n",
       " 'ASR4': {'cls': 0.014045099741009754,\n",
       "  'r1': 42.911415100097656,\n",
       "  'r2': 41.13218688964844,\n",
       "  'r3': 47.182533264160156},\n",
       " 'ASR5': {'cls': 0.007207361721563945,\n",
       "  'r1': 44.43062973022461,\n",
       "  'r2': 41.43922805786133,\n",
       "  'r3': 48.707130432128906},\n",
       " 'ASR6': {'cls': 0.008588627560382433,\n",
       "  'r1': 43.481346130371094,\n",
       "  'r2': 41.133544921875,\n",
       "  'r3': 47.420433044433594},\n",
       " 'ASR7': {'cls': 0.007155538940745218,\n",
       "  'r1': 44.412353515625,\n",
       "  'r2': 41.39636993408203,\n",
       "  'r3': 48.35111999511719},\n",
       " 'ASR8': {'cls': 0.01511980358445577,\n",
       "  'r1': 43.18219757080078,\n",
       "  'r2': 41.02979278564453,\n",
       "  'r3': 46.19093704223633},\n",
       " 'ASR11': {'cls': 0.016532277597275397,\n",
       "  'r1': 43.25649642944336,\n",
       "  'r2': 40.8636474609375,\n",
       "  'r3': 44.85474395751953},\n",
       " 'ASR12': {'cls': 0.008012539633486344,\n",
       "  'r1': 43.55149841308594,\n",
       "  'r2': 41.141990661621094,\n",
       "  'r3': 47.650630950927734},\n",
       " 'ASR13': {'cls': 0.0152529255601394,\n",
       "  'r1': 42.94850158691406,\n",
       "  'r2': 41.03378677368164,\n",
       "  'r3': 46.173583984375}}"
      ]
     },
     "execution_count": 7,
     "metadata": {},
     "output_type": "execute_result"
    }
   ],
   "source": [
    "tm"
   ]
  },
  {
   "cell_type": "code",
   "execution_count": 9,
   "id": "abd4a5c1-a11c-4700-b475-08478dfae4ed",
   "metadata": {
    "scrolled": true
   },
   "outputs": [
    {
     "name": "stdout",
     "output_type": "stream",
     "text": [
      "{'id': ['cls', 'r1', 'r2', 'r3'], 'Target': [0.01556436190788857, 41.575706481933594, 40.68236541748047, 44.933021545410156], 'ASR1': [0.01630692140319238, 43.24491500854492, 41.0790901184082, 47.122642517089844], 'ASR2': [0.018570818038522684, 44.196773529052734, 40.99009704589844, 47.9865837097168], 'ASR3': [0.017018230732548188, 43.26837158203125, 41.02621841430664, 47.217872619628906], 'ASR4': [0.014045099741009754, 42.911415100097656, 41.13218688964844, 47.182533264160156], 'ASR5': [0.007207361721563945, 44.43062973022461, 41.43922805786133, 48.707130432128906], 'ASR6': [0.008588627560382433, 43.481346130371094, 41.133544921875, 47.420433044433594], 'ASR7': [0.007155538940745218, 44.412353515625, 41.39636993408203, 48.35111999511719], 'ASR8': [0.01511980358445577, 43.18219757080078, 41.02979278564453, 46.19093704223633], 'ASR11': [0.016532277597275397, 43.25649642944336, 40.8636474609375, 44.85474395751953], 'ASR12': [0.008012539633486344, 43.55149841308594, 41.141990661621094, 47.650630950927734], 'ASR13': [0.0152529255601394, 42.94850158691406, 41.03378677368164, 46.173583984375]}\n"
     ]
    }
   ],
   "source": [
    "import pandas as pd\n",
    "tm_df={'id':['cls','r1','r2','r3']}\n",
    "for id,value in tm.items():\n",
    "    tm_df[id]=list(value.values())\n",
    "print(tm_df)"
   ]
  },
  {
   "cell_type": "code",
   "execution_count": 13,
   "id": "456ee8a2-2338-40ed-aa4d-28f4dde54781",
   "metadata": {
    "scrolled": true
   },
   "outputs": [
    {
     "name": "stdout",
     "output_type": "stream",
     "text": [
      "               0          1          2          3\n",
      "id           cls         r1         r2         r3\n",
      "Target  0.015564  41.575706  40.682365  44.933022\n",
      "ASR1    0.016307  43.244915   41.07909  47.122643\n",
      "ASR2    0.018571  44.196774  40.990097  47.986584\n",
      "ASR3    0.017018  43.268372  41.026218  47.217873\n",
      "ASR4    0.014045  42.911415  41.132187  47.182533\n",
      "ASR5    0.007207   44.43063  41.439228   48.70713\n",
      "ASR6    0.008589  43.481346  41.133545  47.420433\n",
      "ASR7    0.007156  44.412354   41.39637   48.35112\n",
      "ASR8     0.01512  43.182198  41.029793  46.190937\n",
      "ASR11   0.016532  43.256496  40.863647  44.854744\n",
      "ASR12   0.008013  43.551498  41.141991  47.650631\n",
      "ASR13   0.015253  42.948502  41.033787  46.173584\n"
     ]
    }
   ],
   "source": [
    "# 创建DataFrame\n",
    "tm_df = pd.DataFrame(tm_df)\n",
    "tm_df_T = tm_df.T\n",
    "print(tm_df_T)\n",
    "# 将DataFrame保存为CSV文件\n",
    "tm_df_T.to_csv('tm.csv', index=True)"
   ]
  },
  {
   "cell_type": "code",
   "execution_count": null,
   "id": "1be40d40-c006-4bb1-8068-baf1c9001d30",
   "metadata": {},
   "outputs": [],
   "source": []
  },
  {
   "cell_type": "code",
   "execution_count": null,
   "id": "28884550-94db-44dc-a977-7d49a45d1ac9",
   "metadata": {},
   "outputs": [],
   "source": []
  }
 ],
 "metadata": {
  "kernelspec": {
   "display_name": "Python3.9.18 (TemBERTure)",
   "language": "python",
   "name": "temberture"
  },
  "language_info": {
   "codemirror_mode": {
    "name": "ipython",
    "version": 3
   },
   "file_extension": ".py",
   "mimetype": "text/x-python",
   "name": "python",
   "nbconvert_exporter": "python",
   "pygments_lexer": "ipython3",
   "version": "3.9.18"
  }
 },
 "nbformat": 4,
 "nbformat_minor": 5
}
