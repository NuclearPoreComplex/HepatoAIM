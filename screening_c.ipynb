{
 "cells": [
  {
   "cell_type": "code",
   "execution_count": 2,
   "id": "603086c9-44dc-41ee-8afa-3e88df4827c7",
   "metadata": {},
   "outputs": [],
   "source": [
    "import glob\n",
    "import paddle\n",
    "from paddle import nn\n",
    "from paddle.static import InputSpec\n",
    "from paddle.io import Dataset, DataLoader, random_split\n",
    "import paddle.nn.functional as F\n",
    "import matplotlib.pyplot as plt\n",
    "import pandas as pd\n",
    "import numpy as np\n",
    "from sklearn.preprocessing import StandardScaler\n",
    "scaler = StandardScaler()"
   ]
  },
  {
   "cell_type": "code",
   "execution_count": 3,
   "id": "237452bf-47fb-47fe-a78f-02f42c451aa0",
   "metadata": {},
   "outputs": [],
   "source": [
    "from def_for_cls import sreen_c_data,Class_bert_NN"
   ]
  },
  {
   "cell_type": "code",
   "execution_count": 4,
   "id": "f3e54494-dd6c-47bb-83bf-f344f22fdb54",
   "metadata": {},
   "outputs": [],
   "source": [
    "tg = 'CHEMBL4896'"
   ]
  },
  {
   "cell_type": "code",
   "execution_count": 5,
   "id": "9d45cf20-ee60-4b6f-8e2d-2125ee06f649",
   "metadata": {},
   "outputs": [],
   "source": [
    "# 获取筛选后的预处理地址\n",
    "screening_pth = f'./fingered_s_data/{tg}_s_c_fg.csv'\n",
    "df = pd.read_csv(screening_pth)\n",
    "df_index = df.iloc[:, 0]"
   ]
  },
  {
   "cell_type": "code",
   "execution_count": 6,
   "id": "a41bf917-75cb-43bb-91d4-bf34f05cf185",
   "metadata": {},
   "outputs": [],
   "source": [
    "# 数据集加载\n",
    "data_of_desc = sreen_c_data(screening_pth) #tg为选择靶点\n",
    "descriptor_size = data_of_desc.feature_size"
   ]
  },
  {
   "cell_type": "code",
   "execution_count": 7,
   "id": "4f9aac9b-20c6-45aa-b799-8ef3c0b0f16d",
   "metadata": {},
   "outputs": [],
   "source": [
    "#划分筛选集\n",
    "screen_loader = DataLoader(data_of_desc, batch_size=64, shuffle=False)"
   ]
  },
  {
   "cell_type": "code",
   "execution_count": 8,
   "id": "064d159a-ab24-49ba-a7d6-723bb5b791c0",
   "metadata": {},
   "outputs": [
    {
     "name": "stderr",
     "output_type": "stream",
     "text": [
      "[2024-10-06 20:02:13,589] [ WARNING] module_wrapper.py:149 - From C:\\ProgramData\\anaconda3\\envs\\C4-AI\\lib\\site-packages\\keras\\src\\backend\\common\\global_state.py:82: The name tf.reset_default_graph is deprecated. Please use tf.compat.v1.reset_default_graph instead.\n",
      "\n"
     ]
    },
    {
     "name": "stdout",
     "output_type": "stream",
     "text": [
      "\u001b[1m14/14\u001b[0m \u001b[32m━━━━━━━━━━━━━━━━━━━━\u001b[0m\u001b[37m\u001b[0m \u001b[1m3s\u001b[0m 157ms/step\n"
     ]
    },
    {
     "data": {
      "text/plain": [
       "([], [])"
      ]
     },
     "execution_count": 8,
     "metadata": {},
     "output_type": "execute_result"
    }
   ],
   "source": [
    "# 实例化模型\n",
    "num_classes = 2  # 二分类模型[0,1]即无活性和有活性\n",
    "model = Class_bert_NN(tg,descriptor_size , num_classes=num_classes).to('gpu:0')\n",
    "#加载\n",
    "model.set_state_dict(paddle.load(f'./model/{tg}_classify_best_model.pdparams'))"
   ]
  },
  {
   "cell_type": "code",
   "execution_count": 9,
   "id": "4c64f3bd-7ec5-4ec2-899b-803b0dfa0632",
   "metadata": {},
   "outputs": [],
   "source": [
    "put_out0=[]\n",
    "#进行筛选\n",
    "for batch_id, descriptors in enumerate(screen_loader):\n",
    "    # 前向传播\n",
    "    predictions = model(descriptors)\n",
    "    put_out0.append(predictions)\n",
    "put_out = paddle.concat(put_out0, axis=0)\n",
    "#处理成概率\n",
    "put_out = F.softmax(put_out, axis=1)\n",
    "put_out=np.asarray(put_out.numpy())#转化为np数组\n",
    "put_out = put_out[:, 1]"
   ]
  },
  {
   "cell_type": "code",
   "execution_count": 10,
   "id": "3e207f44-e48d-410c-b713-99cef4cd83f5",
   "metadata": {},
   "outputs": [],
   "source": [
    "# 使用 concat 拼接\n",
    "result = pd.concat([df_index, pd.Series(put_out)], axis=1)"
   ]
  },
  {
   "cell_type": "code",
   "execution_count": 11,
   "id": "3d5a3095-beab-4cbb-848f-54d63da67aa4",
   "metadata": {},
   "outputs": [],
   "source": [
    "# 保存到CSV文件，不包含索引\n",
    "result.to_csv('./screened/{tg}_s_c.csv', index=False)"
   ]
  },
  {
   "cell_type": "code",
   "execution_count": 12,
   "id": "fdd03a7f-71b3-4dd4-9d3f-4a8c7fae9a1a",
   "metadata": {},
   "outputs": [
    {
     "ename": "SyntaxError",
     "evalue": "'return' outside function (966808787.py, line 1)",
     "output_type": "error",
     "traceback": [
      "\u001b[1;36m  Cell \u001b[1;32mIn[12], line 1\u001b[1;36m\u001b[0m\n\u001b[1;33m    return result\u001b[0m\n\u001b[1;37m    ^\u001b[0m\n\u001b[1;31mSyntaxError\u001b[0m\u001b[1;31m:\u001b[0m 'return' outside function\n"
     ]
    }
   ],
   "source": [
    "return result"
   ]
  }
 ],
 "metadata": {
  "kernelspec": {
   "display_name": "C4-AI_of_python3.9.18",
   "language": "python",
   "name": "c4-ai_of_python3.9.18"
  },
  "language_info": {
   "codemirror_mode": {
    "name": "ipython",
    "version": 3
   },
   "file_extension": ".py",
   "mimetype": "text/x-python",
   "name": "python",
   "nbconvert_exporter": "python",
   "pygments_lexer": "ipython3",
   "version": "3.9.18"
  }
 },
 "nbformat": 4,
 "nbformat_minor": 5
}
